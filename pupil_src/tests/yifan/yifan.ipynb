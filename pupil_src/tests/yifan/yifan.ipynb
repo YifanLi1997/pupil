{
 "cells": [
  {
   "cell_type": "code",
   "execution_count": 1,
   "metadata": {},
   "outputs": [
    {
     "name": "stderr",
     "output_type": "stream",
     "text": [
      "C:\\Users\\localadmin\\Anaconda3\\envs\\simgan\\lib\\site-packages\\tensorflow\\python\\framework\\dtypes.py:526: FutureWarning: Passing (type, 1) or '1type' as a synonym of type is deprecated; in a future version of numpy, it will be understood as (type, (1,)) / '(1,)type'.\n",
      "  _np_qint8 = np.dtype([(\"qint8\", np.int8, 1)])\n",
      "C:\\Users\\localadmin\\Anaconda3\\envs\\simgan\\lib\\site-packages\\tensorflow\\python\\framework\\dtypes.py:527: FutureWarning: Passing (type, 1) or '1type' as a synonym of type is deprecated; in a future version of numpy, it will be understood as (type, (1,)) / '(1,)type'.\n",
      "  _np_quint8 = np.dtype([(\"quint8\", np.uint8, 1)])\n",
      "C:\\Users\\localadmin\\Anaconda3\\envs\\simgan\\lib\\site-packages\\tensorflow\\python\\framework\\dtypes.py:528: FutureWarning: Passing (type, 1) or '1type' as a synonym of type is deprecated; in a future version of numpy, it will be understood as (type, (1,)) / '(1,)type'.\n",
      "  _np_qint16 = np.dtype([(\"qint16\", np.int16, 1)])\n",
      "C:\\Users\\localadmin\\Anaconda3\\envs\\simgan\\lib\\site-packages\\tensorflow\\python\\framework\\dtypes.py:529: FutureWarning: Passing (type, 1) or '1type' as a synonym of type is deprecated; in a future version of numpy, it will be understood as (type, (1,)) / '(1,)type'.\n",
      "  _np_quint16 = np.dtype([(\"quint16\", np.uint16, 1)])\n",
      "C:\\Users\\localadmin\\Anaconda3\\envs\\simgan\\lib\\site-packages\\tensorflow\\python\\framework\\dtypes.py:530: FutureWarning: Passing (type, 1) or '1type' as a synonym of type is deprecated; in a future version of numpy, it will be understood as (type, (1,)) / '(1,)type'.\n",
      "  _np_qint32 = np.dtype([(\"qint32\", np.int32, 1)])\n",
      "C:\\Users\\localadmin\\Anaconda3\\envs\\simgan\\lib\\site-packages\\tensorflow\\python\\framework\\dtypes.py:535: FutureWarning: Passing (type, 1) or '1type' as a synonym of type is deprecated; in a future version of numpy, it will be understood as (type, (1,)) / '(1,)type'.\n",
      "  np_resource = np.dtype([(\"resource\", np.ubyte, 1)])\n",
      "Using TensorFlow backend.\n"
     ]
    }
   ],
   "source": [
    "import tensorflow as tf\n",
    "import keras\n",
    "import h5py\n",
    "import numpy as np\n",
    "import cv2\n",
    "import os\n",
    "import glob"
   ]
  },
  {
   "cell_type": "code",
   "execution_count": null,
   "metadata": {},
   "outputs": [],
   "source": [
    "f = h5py.File(\"../input/real_gaze.h5\", 'r')\n",
    "\n",
    "tmp = zip(range(1), f['image'].items())\n",
    "# tmp_set = set(tmp)\n",
    "print('tmp:',tmp)\n",
    "print('tmp_set:',tmp_set)\n",
    "\n",
    "for a, (ikey, ival) in tmp:\n",
    "    print(a)\n",
    "    print(ikey)\n",
    "    print(ival)\n",
    "\n",
    "print(f.values())\n",
    "\n",
    "#After you are done\n",
    "f.close()"
   ]
  },
  {
   "cell_type": "code",
   "execution_count": 2,
   "metadata": {},
   "outputs": [],
   "source": [
    "#filepath = 'C:\\\\Users\\\\localadmin\\\\Documents\\\\Yifan\\\\poc\\\\syn\\\\'\n",
    "filepath = 'C:\\\\Users\\\\localadmin\\\\Documents\\\\Yifan\\\\exp5\\\\synthetic_eyes\\\\'\n",
    "files = [f for f in glob.glob(filepath+\"*.png\")]\n",
    "\n",
    "array = []\n",
    "# for i in range(1,3):\n",
    "#     filename = filepath+str(i)+'.png'\n",
    "#     img = cv2.imread(filename,cv2.IMREAD_GRAYSCALE)\n",
    "#     array.append(img)\n",
    "\n",
    "for i in files:\n",
    "    #print(i)\n",
    "    img = cv2.imread(i,cv2.IMREAD_GRAYSCALE)\n",
    "    array.append(img)\n",
    "\n",
    "archive = h5py.File('syn.h5', 'w')\n",
    "archive['image'] = array"
   ]
  },
  {
   "cell_type": "code",
   "execution_count": 7,
   "metadata": {},
   "outputs": [],
   "source": [
    "archive.close()"
   ]
  },
  {
   "cell_type": "code",
   "execution_count": 4,
   "metadata": {},
   "outputs": [],
   "source": [
    "#filepath = 'C:\\\\Users\\\\localadmin\\\\Documents\\\\Yifan\\\\poc\\\\real\\\\'\n",
    "filepath = 'C:\\\\Users\\\\localadmin\\\\Documents\\\\Yifan\\\\exp5\\\\real_eyes\\\\'\n",
    "files = [f for f in glob.glob(filepath+\"*.bmp\")]\n",
    "\n",
    "array = []\n",
    "# for i in range(1,3):\n",
    "#     filename = filepath+str(i)+'.png'\n",
    "#     img = cv2.imread(filename,cv2.IMREAD_GRAYSCALE)\n",
    "#     array.append(img)\n",
    "\n",
    "for i in files:\n",
    "    #print(i)\n",
    "    img = cv2.imread(i,cv2.IMREAD_GRAYSCALE)\n",
    "    array.append(img)\n",
    "\n",
    "archive = h5py.File('real.h5', 'w')\n",
    "archive['image'] = array"
   ]
  },
  {
   "cell_type": "code",
   "execution_count": 6,
   "metadata": {},
   "outputs": [],
   "source": [
    "#filepath = 'C:\\\\Users\\\\localadmin\\\\Documents\\\\Yifan\\\\poc\\\\syn\\\\'\n",
    "filepath = 'C:\\\\Users\\\\localadmin\\\\Documents\\\\Yifan\\\\simgan\\\\calibration\\\\'\n",
    "files = [f for f in glob.glob(filepath+\"*.png\")]\n",
    "\n",
    "array = []\n",
    "# for i in range(1,3):\n",
    "#     filename = filepath+str(i)+'.png'\n",
    "#     img = cv2.imread(filename,cv2.IMREAD_GRAYSCALE)\n",
    "#     array.append(img)\n",
    "\n",
    "for i in files:\n",
    "    #print(i)\n",
    "    img = cv2.imread(i,cv2.IMREAD_GRAYSCALE)\n",
    "    array.append(img)\n",
    "\n",
    "archive = h5py.File('cal.h5', 'w')\n",
    "archive['image'] = array"
   ]
  },
  {
   "cell_type": "code",
   "execution_count": null,
   "metadata": {},
   "outputs": [],
   "source": [
    "archive = h5py.File('new_test.h5','r')\n",
    "\n",
    "tmp = np.stack([np.expand_dims(a,-1) for a in archive.values()],0)\n",
    "syn_image_stack = tmp[0]\n",
    "\n",
    "archive.close()"
   ]
  },
  {
   "cell_type": "code",
   "execution_count": 20,
   "metadata": {},
   "outputs": [
    {
     "name": "stdout",
     "output_type": "stream",
     "text": [
      "(45, 240, 320)\n"
     ]
    }
   ],
   "source": [
    "f = h5py.File(\"real.h5\", 'r')\n",
    "\n",
    "for key in f.keys():\n",
    "\n",
    "    data = f['image']\n",
    "    print(data.shape)"
   ]
  },
  {
   "cell_type": "code",
   "execution_count": 21,
   "metadata": {},
   "outputs": [],
   "source": [
    "#After you are done\n",
    "f.close()"
   ]
  },
  {
   "cell_type": "code",
   "execution_count": null,
   "metadata": {},
   "outputs": [],
   "source": [
    "f = h5py.File(\"../input/gaze.h5\", 'r')\n",
    "\n",
    "for key in f.keys():\n",
    "    print(key)\n",
    "\n",
    "    #Get the HDF5 group\n",
    "    group = f[key]\n",
    "\n",
    "    #Checkout what keys are inside that group.\n",
    "    for k in group.keys():\n",
    "\n",
    "        data = group[k].value\n",
    "        print(data.shape)\n",
    "\n",
    "\n",
    "#After you are done\n",
    "f.close()"
   ]
  },
  {
   "cell_type": "code",
   "execution_count": null,
   "metadata": {},
   "outputs": [],
   "source": [
    "def image_resize(image, width = None, height = None, inter = cv2.INTER_AREA):\n",
    "    # initialize the dimensions of the image to be resized and\n",
    "    # grab the image size\n",
    "    dim = None\n",
    "    (h, w) = image.shape[:2]\n",
    "\n",
    "    # if both the width and height are None, then return the\n",
    "    # original image\n",
    "    if width is None and height is None:\n",
    "        return image\n",
    "\n",
    "    # check to see if the width is None\n",
    "    if width is None:\n",
    "        # calculate the ratio of the height and construct the\n",
    "        # dimensions\n",
    "        r = height / float(h)\n",
    "        dim = (int(w * r), height)\n",
    "\n",
    "    # otherwise, the height is None\n",
    "    else:\n",
    "        # calculate the ratio of the width and construct the\n",
    "        # dimensions\n",
    "        r = width / float(w)\n",
    "        dim = (width, int(h * r))\n",
    "\n",
    "    # resize the image\n",
    "    resized = cv2.resize(image, dim, interpolation = inter)\n",
    "\n",
    "    # return the resized image\n",
    "    return resized"
   ]
  },
  {
   "cell_type": "code",
   "execution_count": null,
   "metadata": {},
   "outputs": [],
   "source": [
    "img = cv2.imread('1.jpg',cv2.IMREAD_GRAYSCALE)\n",
    "\n",
    "image = image_resize(img, width = 35, height = 55)\n",
    "\n",
    "cv2.imwrite('resized.jpg',image)"
   ]
  },
  {
   "cell_type": "code",
   "execution_count": null,
   "metadata": {},
   "outputs": [],
   "source": [
    "path = os.path.dirname(os.path.abspath('.'))\n",
    "data_dir = os.path.join('..', 'input')\n",
    "cache_dir = '.'\n",
    "\n",
    "with h5py.File(os.path.join(data_dir,'real_gaze.h5'),'r') as t_file:\n",
    "    \n",
    "    for _, (ikey, ival) in zip(range(2), t_file['image'].items()):\n",
    "        print('image',ikey,'shape:',ival.shape)\n",
    "#         img_height, img_width = ival.shape\n",
    "        img_channels = 1\n",
    "        a = np.array(ival[:,:])\n",
    "        file = 'h5.jpg'\n",
    "        cv2.imwrite(file, a)\n",
    "    "
   ]
  },
  {
   "cell_type": "code",
   "execution_count": null,
   "metadata": {},
   "outputs": [],
   "source": [
    "img = cv2.imread('test.jpg',cv2.IMREAD_GRAYSCALE)\n",
    "\n",
    "image = image_resize(img, width = 550, height = 350)\n",
    "\n",
    "cv2.imwrite('test_resized.jpg',image)"
   ]
  },
  {
   "cell_type": "code",
   "execution_count": null,
   "metadata": {},
   "outputs": [],
   "source": []
  }
 ],
 "metadata": {
  "kernelspec": {
   "display_name": "Python 3",
   "language": "python",
   "name": "python3"
  },
  "language_info": {
   "codemirror_mode": {
    "name": "ipython",
    "version": 3
   },
   "file_extension": ".py",
   "mimetype": "text/x-python",
   "name": "python",
   "nbconvert_exporter": "python",
   "pygments_lexer": "ipython3",
   "version": "3.7.4"
  }
 },
 "nbformat": 4,
 "nbformat_minor": 4
}
